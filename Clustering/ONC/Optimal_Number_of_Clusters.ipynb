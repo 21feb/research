{
 "cells": [
  {
   "cell_type": "markdown",
   "metadata": {},
   "source": [
    "* By: Rino Hilman and Illya Barziy\n",
    "* Email: rinohilman@yahoo.com and illyabarziy@gmail.com\n",
    "* Reference: __Detection of False Investment Strategies using Unsupervised Learning Methods__  by Marcos Lopez de Prado and  Michael J. Lewis "
   ]
  },
  {
   "cell_type": "markdown",
   "metadata": {},
   "source": [
    "\n",
    "# Optimal Number of Clusters (ONC)\n",
    "\n",
    "\n",
    "## Introduction\n",
    "\n",
    "Optimal Number of Clusters algorithm has a purpose to detect the optimal number of K-Means clusters using feature correlation matrix and silhouette scores.\n",
    "Implementations in this notebook are based on the paper __Detection of False Investment Strategies using Unsupervised Learning Methods__ [available here](https://papers.ssrn.com/sol3/abstract_id=3167017).\n",
    "\n",
    "ONC algorithm takes as input:\n",
    "- Correlation Matrix of elements\n",
    "- Number of clusters to use (If not given, the algorithm will choose the optimal number of clusters)\n",
    "\n",
    "And the output of the algorithm is:\n",
    "- Correlation Matrix (order of elements is re-arranged so the elements from one cluster are placed near each other)\n",
    "- Optimized Clusters (dictionary containing cluster number and elements that it contains)\n",
    "- Silhouette Scores (Silhouette Scores of every element in clusters)\n"
   ]
  },
  {
   "cell_type": "markdown",
   "metadata": {},
   "source": [
    "## Usage of the ONC algorithm"
   ]
  },
  {
   "cell_type": "markdown",
   "metadata": {},
   "source": [
    "In the code below the random correlation matrix is generated and the ONC clustering algorithm is used on it. After, the result of clustering is assessed.\n",
    "\n",
    "The code used in this part closely follows the code from the __Detection of False Investment Strategies using Unsupervised Learning Methods__ paper."
   ]
  },
  {
   "cell_type": "code",
   "execution_count": 1,
   "metadata": {},
   "outputs": [],
   "source": [
    "# Import necessary packages\n",
    "import random\n",
    "import numpy as np\n",
    "import pandas as pd\n",
    "import seaborn as sns\n",
    "\n",
    "from scipy.linalg import block_diag \n",
    "from sklearn.utils import check_random_state, shuffle\n",
    "from sklearn.metrics import silhouette_samples, silhouette_score\n",
    "from sklearn.cluster import KMeans\n",
    "import matplotlib.pyplot as plt\n",
    "\n",
    "import mlfinlab as ml\n",
    "from mlfinlab.clustering.onc import get_onc_clusters"
   ]
  },
  {
   "cell_type": "markdown",
   "metadata": {},
   "source": [
    "### Random Block Correlation Matrix Algorithm"
   ]
  },
  {
   "cell_type": "markdown",
   "metadata": {},
   "source": [
    "We use a random correlation matrix generator taken from the book __\"Machine Learning for Asset Managers\"__, by _Marcos M. Lopez de Prado_,(Chapter 4, Page 61-62) to generate a random block of a correlation matrix."
   ]
  },
  {
   "cell_type": "code",
   "execution_count": 2,
   "metadata": {},
   "outputs": [],
   "source": [
    "def getCovSub(nObs, nCols, sigma, random_state=None): \n",
    "    '''\n",
    "    Generates a block of a block-diagonal random covariance matrix.\n",
    "    '''\n",
    "    rng = check_random_state(random_state) \n",
    "    if nCols==1:return np.ones((1,1)) \n",
    "    ar0=rng.normal(size=(nObs,1))     \n",
    "    ar0=np.repeat(ar0,nCols,axis=1)     \n",
    "    ar0+=rng.normal(scale=sigma,size=ar0.shape)     \n",
    "    ar0=np.cov(ar0,rowvar=False)     \n",
    "    return ar0"
   ]
  },
  {
   "cell_type": "code",
   "execution_count": 3,
   "metadata": {},
   "outputs": [],
   "source": [
    "def getRndBlockCov(nCols,nBlocks,minBlockSize=1,sigma=1.,random_state=None):\n",
    "    '''\n",
    "    Generates a whole block-diagonal random covariance matrix with a given number of blocks.\n",
    "    '''    \n",
    "    rng = check_random_state(random_state)     \n",
    "    parts=rng.choice(range(1,nCols-(minBlockSize-1)*nBlocks),nBlocks-1,replace=False)     \n",
    "    parts.sort()     \n",
    "    parts=np.append(parts,nCols-(minBlockSize-1)*nBlocks)     \n",
    "    parts=np.append(parts[0],np.diff( parts )) - 1 + minBlockSize     \n",
    "    cov=None     \n",
    "    for nCols_ in parts:         \n",
    "        cov_=getCovSub(int(max(nCols_*(nCols_+1)/2.,100)),nCols_,sigma,random_state=rng)         \n",
    "        if cov is None:cov=cov_.copy()         \n",
    "        else:cov=block_diag(cov,cov_)     \n",
    "    return cov "
   ]
  },
  {
   "cell_type": "markdown",
   "metadata": {},
   "source": [
    "The function _cov_to_corr_ from MLFinLab package transforms covariance into a correlation matrix.\n",
    "\n",
    "Class that contains this function is _ml.portfolio_optimization.RiskEstimators_."
   ]
  },
  {
   "cell_type": "code",
   "execution_count": 4,
   "metadata": {},
   "outputs": [],
   "source": [
    "# A class that contains the cov_to_corr function\n",
    "risk_estimators = ml.portfolio_optimization.RiskEstimators()"
   ]
  },
  {
   "cell_type": "code",
   "execution_count": 5,
   "metadata": {},
   "outputs": [],
   "source": [
    "def randomBlockCorr(nCols,nBlocks,random_state=None,minBlockSize=1):  \n",
    "    '''\n",
    "    Generates a whole block-diagonal random correlation matrix with noise added.\n",
    "    '''\n",
    "    # Form block correlation    \n",
    "    rng = check_random_state(random_state)     \n",
    "    cov0=getRndBlockCov(nCols,nBlocks,minBlockSize=minBlockSize,\\\n",
    "                        sigma=.5,random_state=rng) # perfect block corr     \n",
    "    cov1=getRndBlockCov(nCols,1,minBlockSize=minBlockSize,\\\n",
    "                        sigma=1.,random_state=rng) # add noise     \n",
    "    cov0+=cov1     \n",
    "    corr0=risk_estimators.cov_to_corr(cov0)     \n",
    "    corr0=pd.DataFrame(corr0)     \n",
    "    return corr0"
   ]
  },
  {
   "cell_type": "markdown",
   "metadata": {},
   "source": [
    "### Using the Random Block Correlation Matrix Algorithm"
   ]
  },
  {
   "cell_type": "markdown",
   "metadata": {},
   "source": [
    "Executing the _randomBlockCorr_ function to create a random correlation matrix.\n",
    "\n",
    "The created matrix will have 15 columns and 5 blocks that have a high intra-block correlation and inter-block correlation. It is done to represent real dependencies of clustered elements - they are related to elements in the same cluster stronger than to elements outside the cluster."
   ]
  },
  {
   "cell_type": "code",
   "execution_count": 6,
   "metadata": {},
   "outputs": [],
   "source": [
    "# Set predetermined variables for the algorithm\n",
    "num_blocks = 5\n",
    "num_cols = 15\n",
    "\n",
    "# Setting a random seed to get the same results\n",
    "np.random.seed(0)"
   ]
  },
  {
   "cell_type": "code",
   "execution_count": 7,
   "metadata": {},
   "outputs": [
    {
     "name": "stdout",
     "output_type": "stream",
     "text": [
      "The random correlation matrix is:\n"
     ]
    },
    {
     "data": {
      "text/html": [
       "<div>\n",
       "<style scoped>\n",
       "    .dataframe tbody tr th:only-of-type {\n",
       "        vertical-align: middle;\n",
       "    }\n",
       "\n",
       "    .dataframe tbody tr th {\n",
       "        vertical-align: top;\n",
       "    }\n",
       "\n",
       "    .dataframe thead th {\n",
       "        text-align: right;\n",
       "    }\n",
       "</style>\n",
       "<table border=\"1\" class=\"dataframe\">\n",
       "  <thead>\n",
       "    <tr style=\"text-align: right;\">\n",
       "      <th></th>\n",
       "      <th>0</th>\n",
       "      <th>1</th>\n",
       "      <th>2</th>\n",
       "      <th>3</th>\n",
       "      <th>4</th>\n",
       "      <th>5</th>\n",
       "      <th>6</th>\n",
       "      <th>7</th>\n",
       "      <th>8</th>\n",
       "      <th>9</th>\n",
       "      <th>10</th>\n",
       "      <th>11</th>\n",
       "      <th>12</th>\n",
       "      <th>13</th>\n",
       "      <th>14</th>\n",
       "    </tr>\n",
       "  </thead>\n",
       "  <tbody>\n",
       "    <tr>\n",
       "      <th>0</th>\n",
       "      <td>1.000000</td>\n",
       "      <td>0.668930</td>\n",
       "      <td>0.726645</td>\n",
       "      <td>0.666211</td>\n",
       "      <td>0.682333</td>\n",
       "      <td>0.386862</td>\n",
       "      <td>0.336758</td>\n",
       "      <td>0.421807</td>\n",
       "      <td>0.407746</td>\n",
       "      <td>0.406339</td>\n",
       "      <td>0.437698</td>\n",
       "      <td>0.336780</td>\n",
       "      <td>0.398266</td>\n",
       "      <td>0.373348</td>\n",
       "      <td>0.354250</td>\n",
       "    </tr>\n",
       "    <tr>\n",
       "      <th>1</th>\n",
       "      <td>0.668930</td>\n",
       "      <td>1.000000</td>\n",
       "      <td>0.681343</td>\n",
       "      <td>0.639277</td>\n",
       "      <td>0.650507</td>\n",
       "      <td>0.350055</td>\n",
       "      <td>0.350706</td>\n",
       "      <td>0.383898</td>\n",
       "      <td>0.397764</td>\n",
       "      <td>0.368618</td>\n",
       "      <td>0.405293</td>\n",
       "      <td>0.295109</td>\n",
       "      <td>0.365928</td>\n",
       "      <td>0.408680</td>\n",
       "      <td>0.401075</td>\n",
       "    </tr>\n",
       "    <tr>\n",
       "      <th>2</th>\n",
       "      <td>0.726645</td>\n",
       "      <td>0.681343</td>\n",
       "      <td>1.000000</td>\n",
       "      <td>0.657666</td>\n",
       "      <td>0.631440</td>\n",
       "      <td>0.422916</td>\n",
       "      <td>0.345527</td>\n",
       "      <td>0.427928</td>\n",
       "      <td>0.383529</td>\n",
       "      <td>0.419418</td>\n",
       "      <td>0.421061</td>\n",
       "      <td>0.351546</td>\n",
       "      <td>0.383802</td>\n",
       "      <td>0.384997</td>\n",
       "      <td>0.393904</td>\n",
       "    </tr>\n",
       "    <tr>\n",
       "      <th>3</th>\n",
       "      <td>0.666211</td>\n",
       "      <td>0.639277</td>\n",
       "      <td>0.657666</td>\n",
       "      <td>1.000000</td>\n",
       "      <td>0.628043</td>\n",
       "      <td>0.384284</td>\n",
       "      <td>0.347217</td>\n",
       "      <td>0.403978</td>\n",
       "      <td>0.384493</td>\n",
       "      <td>0.424984</td>\n",
       "      <td>0.367602</td>\n",
       "      <td>0.419594</td>\n",
       "      <td>0.387010</td>\n",
       "      <td>0.394633</td>\n",
       "      <td>0.400806</td>\n",
       "    </tr>\n",
       "    <tr>\n",
       "      <th>4</th>\n",
       "      <td>0.682333</td>\n",
       "      <td>0.650507</td>\n",
       "      <td>0.631440</td>\n",
       "      <td>0.628043</td>\n",
       "      <td>1.000000</td>\n",
       "      <td>0.350297</td>\n",
       "      <td>0.355222</td>\n",
       "      <td>0.364584</td>\n",
       "      <td>0.418672</td>\n",
       "      <td>0.314974</td>\n",
       "      <td>0.359730</td>\n",
       "      <td>0.376811</td>\n",
       "      <td>0.386244</td>\n",
       "      <td>0.303086</td>\n",
       "      <td>0.330859</td>\n",
       "    </tr>\n",
       "    <tr>\n",
       "      <th>5</th>\n",
       "      <td>0.386862</td>\n",
       "      <td>0.350055</td>\n",
       "      <td>0.422916</td>\n",
       "      <td>0.384284</td>\n",
       "      <td>0.350297</td>\n",
       "      <td>1.000000</td>\n",
       "      <td>0.711611</td>\n",
       "      <td>0.422789</td>\n",
       "      <td>0.382914</td>\n",
       "      <td>0.422294</td>\n",
       "      <td>0.380077</td>\n",
       "      <td>0.377146</td>\n",
       "      <td>0.398495</td>\n",
       "      <td>0.375315</td>\n",
       "      <td>0.334574</td>\n",
       "    </tr>\n",
       "    <tr>\n",
       "      <th>6</th>\n",
       "      <td>0.336758</td>\n",
       "      <td>0.350706</td>\n",
       "      <td>0.345527</td>\n",
       "      <td>0.347217</td>\n",
       "      <td>0.355222</td>\n",
       "      <td>0.711611</td>\n",
       "      <td>1.000000</td>\n",
       "      <td>0.385116</td>\n",
       "      <td>0.381269</td>\n",
       "      <td>0.284653</td>\n",
       "      <td>0.400770</td>\n",
       "      <td>0.372155</td>\n",
       "      <td>0.378406</td>\n",
       "      <td>0.365339</td>\n",
       "      <td>0.301542</td>\n",
       "    </tr>\n",
       "    <tr>\n",
       "      <th>7</th>\n",
       "      <td>0.421807</td>\n",
       "      <td>0.383898</td>\n",
       "      <td>0.427928</td>\n",
       "      <td>0.403978</td>\n",
       "      <td>0.364584</td>\n",
       "      <td>0.422789</td>\n",
       "      <td>0.385116</td>\n",
       "      <td>1.000000</td>\n",
       "      <td>0.671926</td>\n",
       "      <td>0.403279</td>\n",
       "      <td>0.409294</td>\n",
       "      <td>0.352863</td>\n",
       "      <td>0.416150</td>\n",
       "      <td>0.368995</td>\n",
       "      <td>0.377461</td>\n",
       "    </tr>\n",
       "    <tr>\n",
       "      <th>8</th>\n",
       "      <td>0.407746</td>\n",
       "      <td>0.397764</td>\n",
       "      <td>0.383529</td>\n",
       "      <td>0.384493</td>\n",
       "      <td>0.418672</td>\n",
       "      <td>0.382914</td>\n",
       "      <td>0.381269</td>\n",
       "      <td>0.671926</td>\n",
       "      <td>1.000000</td>\n",
       "      <td>0.328617</td>\n",
       "      <td>0.413879</td>\n",
       "      <td>0.336794</td>\n",
       "      <td>0.441581</td>\n",
       "      <td>0.361935</td>\n",
       "      <td>0.380352</td>\n",
       "    </tr>\n",
       "    <tr>\n",
       "      <th>9</th>\n",
       "      <td>0.406339</td>\n",
       "      <td>0.368618</td>\n",
       "      <td>0.419418</td>\n",
       "      <td>0.424984</td>\n",
       "      <td>0.314974</td>\n",
       "      <td>0.422294</td>\n",
       "      <td>0.284653</td>\n",
       "      <td>0.403279</td>\n",
       "      <td>0.328617</td>\n",
       "      <td>1.000000</td>\n",
       "      <td>0.677017</td>\n",
       "      <td>0.650350</td>\n",
       "      <td>0.373420</td>\n",
       "      <td>0.382268</td>\n",
       "      <td>0.364415</td>\n",
       "    </tr>\n",
       "    <tr>\n",
       "      <th>10</th>\n",
       "      <td>0.437698</td>\n",
       "      <td>0.405293</td>\n",
       "      <td>0.421061</td>\n",
       "      <td>0.367602</td>\n",
       "      <td>0.359730</td>\n",
       "      <td>0.380077</td>\n",
       "      <td>0.400770</td>\n",
       "      <td>0.409294</td>\n",
       "      <td>0.413879</td>\n",
       "      <td>0.677017</td>\n",
       "      <td>1.000000</td>\n",
       "      <td>0.622163</td>\n",
       "      <td>0.421734</td>\n",
       "      <td>0.424121</td>\n",
       "      <td>0.383340</td>\n",
       "    </tr>\n",
       "    <tr>\n",
       "      <th>11</th>\n",
       "      <td>0.336780</td>\n",
       "      <td>0.295109</td>\n",
       "      <td>0.351546</td>\n",
       "      <td>0.419594</td>\n",
       "      <td>0.376811</td>\n",
       "      <td>0.377146</td>\n",
       "      <td>0.372155</td>\n",
       "      <td>0.352863</td>\n",
       "      <td>0.336794</td>\n",
       "      <td>0.650350</td>\n",
       "      <td>0.622163</td>\n",
       "      <td>1.000000</td>\n",
       "      <td>0.394304</td>\n",
       "      <td>0.357499</td>\n",
       "      <td>0.372475</td>\n",
       "    </tr>\n",
       "    <tr>\n",
       "      <th>12</th>\n",
       "      <td>0.398266</td>\n",
       "      <td>0.365928</td>\n",
       "      <td>0.383802</td>\n",
       "      <td>0.387010</td>\n",
       "      <td>0.386244</td>\n",
       "      <td>0.398495</td>\n",
       "      <td>0.378406</td>\n",
       "      <td>0.416150</td>\n",
       "      <td>0.441581</td>\n",
       "      <td>0.373420</td>\n",
       "      <td>0.421734</td>\n",
       "      <td>0.394304</td>\n",
       "      <td>1.000000</td>\n",
       "      <td>0.641125</td>\n",
       "      <td>0.669116</td>\n",
       "    </tr>\n",
       "    <tr>\n",
       "      <th>13</th>\n",
       "      <td>0.373348</td>\n",
       "      <td>0.408680</td>\n",
       "      <td>0.384997</td>\n",
       "      <td>0.394633</td>\n",
       "      <td>0.303086</td>\n",
       "      <td>0.375315</td>\n",
       "      <td>0.365339</td>\n",
       "      <td>0.368995</td>\n",
       "      <td>0.361935</td>\n",
       "      <td>0.382268</td>\n",
       "      <td>0.424121</td>\n",
       "      <td>0.357499</td>\n",
       "      <td>0.641125</td>\n",
       "      <td>1.000000</td>\n",
       "      <td>0.647627</td>\n",
       "    </tr>\n",
       "    <tr>\n",
       "      <th>14</th>\n",
       "      <td>0.354250</td>\n",
       "      <td>0.401075</td>\n",
       "      <td>0.393904</td>\n",
       "      <td>0.400806</td>\n",
       "      <td>0.330859</td>\n",
       "      <td>0.334574</td>\n",
       "      <td>0.301542</td>\n",
       "      <td>0.377461</td>\n",
       "      <td>0.380352</td>\n",
       "      <td>0.364415</td>\n",
       "      <td>0.383340</td>\n",
       "      <td>0.372475</td>\n",
       "      <td>0.669116</td>\n",
       "      <td>0.647627</td>\n",
       "      <td>1.000000</td>\n",
       "    </tr>\n",
       "  </tbody>\n",
       "</table>\n",
       "</div>"
      ],
      "text/plain": [
       "           0         1         2         3         4         5         6  \\\n",
       "0   1.000000  0.668930  0.726645  0.666211  0.682333  0.386862  0.336758   \n",
       "1   0.668930  1.000000  0.681343  0.639277  0.650507  0.350055  0.350706   \n",
       "2   0.726645  0.681343  1.000000  0.657666  0.631440  0.422916  0.345527   \n",
       "3   0.666211  0.639277  0.657666  1.000000  0.628043  0.384284  0.347217   \n",
       "4   0.682333  0.650507  0.631440  0.628043  1.000000  0.350297  0.355222   \n",
       "5   0.386862  0.350055  0.422916  0.384284  0.350297  1.000000  0.711611   \n",
       "6   0.336758  0.350706  0.345527  0.347217  0.355222  0.711611  1.000000   \n",
       "7   0.421807  0.383898  0.427928  0.403978  0.364584  0.422789  0.385116   \n",
       "8   0.407746  0.397764  0.383529  0.384493  0.418672  0.382914  0.381269   \n",
       "9   0.406339  0.368618  0.419418  0.424984  0.314974  0.422294  0.284653   \n",
       "10  0.437698  0.405293  0.421061  0.367602  0.359730  0.380077  0.400770   \n",
       "11  0.336780  0.295109  0.351546  0.419594  0.376811  0.377146  0.372155   \n",
       "12  0.398266  0.365928  0.383802  0.387010  0.386244  0.398495  0.378406   \n",
       "13  0.373348  0.408680  0.384997  0.394633  0.303086  0.375315  0.365339   \n",
       "14  0.354250  0.401075  0.393904  0.400806  0.330859  0.334574  0.301542   \n",
       "\n",
       "           7         8         9        10        11        12        13  \\\n",
       "0   0.421807  0.407746  0.406339  0.437698  0.336780  0.398266  0.373348   \n",
       "1   0.383898  0.397764  0.368618  0.405293  0.295109  0.365928  0.408680   \n",
       "2   0.427928  0.383529  0.419418  0.421061  0.351546  0.383802  0.384997   \n",
       "3   0.403978  0.384493  0.424984  0.367602  0.419594  0.387010  0.394633   \n",
       "4   0.364584  0.418672  0.314974  0.359730  0.376811  0.386244  0.303086   \n",
       "5   0.422789  0.382914  0.422294  0.380077  0.377146  0.398495  0.375315   \n",
       "6   0.385116  0.381269  0.284653  0.400770  0.372155  0.378406  0.365339   \n",
       "7   1.000000  0.671926  0.403279  0.409294  0.352863  0.416150  0.368995   \n",
       "8   0.671926  1.000000  0.328617  0.413879  0.336794  0.441581  0.361935   \n",
       "9   0.403279  0.328617  1.000000  0.677017  0.650350  0.373420  0.382268   \n",
       "10  0.409294  0.413879  0.677017  1.000000  0.622163  0.421734  0.424121   \n",
       "11  0.352863  0.336794  0.650350  0.622163  1.000000  0.394304  0.357499   \n",
       "12  0.416150  0.441581  0.373420  0.421734  0.394304  1.000000  0.641125   \n",
       "13  0.368995  0.361935  0.382268  0.424121  0.357499  0.641125  1.000000   \n",
       "14  0.377461  0.380352  0.364415  0.383340  0.372475  0.669116  0.647627   \n",
       "\n",
       "          14  \n",
       "0   0.354250  \n",
       "1   0.401075  \n",
       "2   0.393904  \n",
       "3   0.400806  \n",
       "4   0.330859  \n",
       "5   0.334574  \n",
       "6   0.301542  \n",
       "7   0.377461  \n",
       "8   0.380352  \n",
       "9   0.364415  \n",
       "10  0.383340  \n",
       "11  0.372475  \n",
       "12  0.669116  \n",
       "13  0.647627  \n",
       "14  1.000000  "
      ]
     },
     "execution_count": 7,
     "metadata": {},
     "output_type": "execute_result"
    }
   ],
   "source": [
    "# Generating a correlation matrix\n",
    "corr_matrix = randomBlockCorr(num_cols, num_blocks, random_state=None, minBlockSize=1)\n",
    "\n",
    "print('The random correlation matrix is:')\n",
    "corr_matrix"
   ]
  },
  {
   "cell_type": "markdown",
   "metadata": {},
   "source": [
    "A generated correlation matrix can be better visualized using a heat map"
   ]
  },
  {
   "cell_type": "code",
   "execution_count": 8,
   "metadata": {},
   "outputs": [
    {
     "name": "stdout",
     "output_type": "stream",
     "text": [
      "The heatmap of the generated correlation matrix is:\n"
     ]
    },
    {
     "data": {
      "image/png": "[encoded data removed]",
      "text/plain": [
       "<Figure size 576x576 with 2 Axes>"
      ]
     },
     "metadata": {
      "needs_background": "light"
     },
     "output_type": "display_data"
    }
   ],
   "source": [
    "print('The heatmap of the generated correlation matrix is:')\n",
    "\n",
    "plt.figure(figsize = (8,8))\n",
    "ax = sns.heatmap(corr_matrix, square = True)"
   ]
  },
  {
   "cell_type": "markdown",
   "metadata": {},
   "source": [
    "### Shuffling generated matrix"
   ]
  },
  {
   "cell_type": "markdown",
   "metadata": {},
   "source": [
    "We are shuffling the generated correlation matrix to see the efficacy of ONC clustering in recovering the shuffled matrix to its initial state where the intra-block correlation is high and the inter-block correlation is low."
   ]
  },
  {
   "cell_type": "code",
   "execution_count": 9,
   "metadata": {},
   "outputs": [
    {
     "name": "stdout",
     "output_type": "stream",
     "text": [
      "Order of elements before the shuffle:\n"
     ]
    },
    {
     "data": {
      "text/plain": [
       "[0, 1, 2, 3, 4, 5, 6, 7, 8, 9, 10, 11, 12, 13, 14]"
      ]
     },
     "execution_count": 9,
     "metadata": {},
     "output_type": "execute_result"
    }
   ],
   "source": [
    "# Initial order of elements\n",
    "corr_id = list(corr_matrix.index.values)\n",
    "\n",
    "print('Order of elements before the shuffle:')\n",
    "corr_id"
   ]
  },
  {
   "cell_type": "code",
   "execution_count": 10,
   "metadata": {},
   "outputs": [
    {
     "name": "stdout",
     "output_type": "stream",
     "text": [
      "Order of elements after the shuffle:\n"
     ]
    },
    {
     "data": {
      "text/plain": [
       "[0, 6, 4, 14, 11, 12, 10, 7, 5, 3, 2, 8, 9, 1, 13]"
      ]
     },
     "execution_count": 10,
     "metadata": {},
     "output_type": "execute_result"
    }
   ],
   "source": [
    "# Order of elements after the shuffle\n",
    "newindex = shuffle(corr_id)\n",
    "\n",
    "print('Order of elements after the shuffle:')\n",
    "newindex"
   ]
  },
  {
   "cell_type": "code",
   "execution_count": 11,
   "metadata": {},
   "outputs": [
    {
     "name": "stdout",
     "output_type": "stream",
     "text": [
      "Heatmap of the reordered correlation matrix is:\n"
     ]
    },
    {
     "data": {
      "image/png": "[encoded data removed]",
      "text/plain": [
       "<Figure size 576x576 with 2 Axes>"
      ]
     },
     "metadata": {
      "needs_background": "light"
     },
     "output_type": "display_data"
    }
   ],
   "source": [
    "# Reordering the correlation matrix based on new shuffled order\n",
    "corr_matrix = corr_matrix.iloc[newindex] # Reorder rows\n",
    "corr_matrix = corr_matrix.iloc[:,newindex] # Reordering columns \n",
    "\n",
    "print ('Heatmap of the reordered correlation matrix is:')\n",
    "plt.figure(figsize = (8,8))\n",
    "ax = sns.heatmap(corr_matrix, square = True)"
   ]
  },
  {
   "cell_type": "markdown",
   "metadata": {},
   "source": [
    "### Running the ONC algorithm"
   ]
  },
  {
   "cell_type": "code",
   "execution_count": 12,
   "metadata": {},
   "outputs": [
    {
     "name": "stdout",
     "output_type": "stream",
     "text": [
      "The heat map of the resulting correlation matrix of the ONC algorithm is:\n"
     ]
    },
    {
     "data": {
      "image/png": "[encoded data removed]",
      "text/plain": [
       "<Figure size 576x576 with 2 Axes>"
      ]
     },
     "metadata": {
      "needs_background": "light"
     },
     "output_type": "display_data"
    }
   ],
   "source": [
    "# Applying the ONC algorithm on the matrix\n",
    "\n",
    "clustered_matrix, clusters, silh_scores = ml.clustering.get_onc_clusters(corr_matrix, 10)\n",
    "\n",
    "print('The heat map of the resulting correlation matrix of the ONC algorithm is:')\n",
    "plt.figure(figsize = (8,8))\n",
    "ax = sns.heatmap(clustered_matrix, square = True)"
   ]
  },
  {
   "cell_type": "code",
   "execution_count": 13,
   "metadata": {},
   "outputs": [
    {
     "name": "stdout",
     "output_type": "stream",
     "text": [
      "Clusters created by the ONC algorithm are:\n"
     ]
    },
    {
     "data": {
      "text/plain": [
       "{0: [0, 4, 3, 2, 1], 1: [11, 10, 9], 2: [14, 12, 13], 3: [6, 5], 4: [7, 8]}"
      ]
     },
     "execution_count": 13,
     "metadata": {},
     "output_type": "execute_result"
    }
   ],
   "source": [
    "print('Clusters created by the ONC algorithm are:')\n",
    "clusters"
   ]
  },
  {
   "cell_type": "markdown",
   "metadata": {},
   "source": [
    "### Analysis of the results"
   ]
  },
  {
   "cell_type": "markdown",
   "metadata": {},
   "source": [
    "As seen from the resulting correlation matrix from the ONC algorithm, discovered clusters are the same as in the originally created random correlation matrix. The only difference is the order of these clusters in the matrix. \n",
    "\n",
    "The tool used in the ONC algorithm to determine the optimal number of clusters and the optimal clustering is the Silhouette Score. The Silhouette Score measures the similarities of objects to their clusters and dissimilarities of objects to other clusters.\n",
    "\n",
    "Silhouette score ranges from -1 to 1, where a higher score means that the object is more similar to its cluster and is more different from other clusters, and the opposite for a lower score."
   ]
  },
  {
   "cell_type": "markdown",
   "metadata": {},
   "source": [
    "According to the book __Machine Learning for Asset Managers__, by _Marcos M. Lopez de Prado_, the Silhouette Scores formula is:\n",
    "\n",
    "$$S_i = \\frac{b_i - a_i}{max \\{a_i, b_i \\}}$$\n",
    "\n",
    "where:\n",
    "\n",
    "$S_i$ = Silhouette Score\n",
    "\n",
    "$a_i$ = the average distance between i and all other components in the same cluster\n",
    "\n",
    "$b_i$ = the average distance between i and all the components in the nearest cluster where i is not included\n"
   ]
  },
  {
   "cell_type": "markdown",
   "metadata": {},
   "source": [
    "### Plotting Silhouette Scores for elements in each cluster"
   ]
  },
  {
   "cell_type": "code",
   "execution_count": 14,
   "metadata": {},
   "outputs": [
    {
     "name": "stdout",
     "output_type": "stream",
     "text": [
      "The elements are clustered as follows:\n"
     ]
    },
    {
     "data": {
      "text/plain": [
       "{0: [0, 4, 3, 2, 1], 1: [11, 10, 9], 2: [14, 12, 13], 3: [6, 5], 4: [7, 8]}"
      ]
     },
     "execution_count": 14,
     "metadata": {},
     "output_type": "execute_result"
    }
   ],
   "source": [
    "# Created clusters\n",
    "\n",
    "print('The elements are clustered as follows:')\n",
    "clusters"
   ]
  },
  {
   "cell_type": "code",
   "execution_count": 15,
   "metadata": {},
   "outputs": [
    {
     "name": "stdout",
     "output_type": "stream",
     "text": [
      "Cluster id of each element:\n"
     ]
    },
    {
     "data": {
      "text/plain": [
       "array([0., 0., 0., 0., 0., 3., 3., 4., 4., 1., 1., 1., 2., 2., 2.])"
      ]
     },
     "execution_count": 15,
     "metadata": {},
     "output_type": "execute_result"
    }
   ],
   "source": [
    "# Assigning id of a corresponding cluster to each element\n",
    "\n",
    "newlabels = np.zeros(len(clustered_matrix.columns))\n",
    "listIndex = list(clustered_matrix.index)\n",
    "\n",
    "for i in listIndex: \n",
    "    for k,v in clusters.items():\n",
    "        for el in v:\n",
    "            if el == i:\n",
    "                newlabels[i] = k\n",
    "\n",
    "print('Cluster id of each element:')\n",
    "newlabels"
   ]
  },
  {
   "cell_type": "code",
   "execution_count": 16,
   "metadata": {},
   "outputs": [
    {
     "name": "stdout",
     "output_type": "stream",
     "text": [
      "The Silhouette Scores of the ONC clustering elements are:\n"
     ]
    },
    {
     "data": {
      "text/plain": [
       "0     0.325480\n",
       "6     0.338679\n",
       "4     0.283192\n",
       "14    0.290760\n",
       "11    0.270244\n",
       "12    0.256348\n",
       "10    0.260202\n",
       "7     0.287043\n",
       "5     0.327181\n",
       "3     0.283301\n",
       "2     0.314962\n",
       "8     0.295280\n",
       "9     0.303011\n",
       "1     0.301594\n",
       "13    0.277670\n",
       "dtype: float64"
      ]
     },
     "execution_count": 16,
     "metadata": {},
     "output_type": "execute_result"
    }
   ],
   "source": [
    "# Silhouette score for each element\n",
    "\n",
    "print('The Silhouette Scores of the ONC clustering elements are:')\n",
    "silh_scores"
   ]
  },
  {
   "cell_type": "code",
   "execution_count": 17,
   "metadata": {},
   "outputs": [
    {
     "data": {
      "text/plain": [
       "array([0.32548021, 0.28319183, 0.28330072, 0.31496161, 0.3015943 ,\n",
       "       0.27024411, 0.26020225, 0.30301078, 0.29075988, 0.25634789,\n",
       "       0.27767025, 0.33867943, 0.32718132, 0.28704265, 0.29527969])"
      ]
     },
     "execution_count": 17,
     "metadata": {},
     "output_type": "execute_result"
    }
   ],
   "source": [
    "# Transforming Silhouette Scores into an array\n",
    "\n",
    "appendedSilhouette = [silh_scores[i] for i in listIndex]\n",
    "appendedSilhouette = np.array(appendedSilhouette)\n",
    "\n",
    "appendedSilhouette"
   ]
  },
  {
   "cell_type": "code",
   "execution_count": 18,
   "metadata": {},
   "outputs": [
    {
     "data": {
      "image/png": "[encoded data removed]",
      "text/plain": [
       "<Figure size 1080x360 with 1 Axes>"
      ]
     },
     "metadata": {
      "needs_background": "light"
     },
     "output_type": "display_data"
    }
   ],
   "source": [
    "# Plotting ONC Silhouette Scores for each cluster \n",
    "\n",
    "fig, ax = plt.subplots()\n",
    "fig.set_size_inches(15, 5)\n",
    "\n",
    "\n",
    "y_lower, y_upper = 0, 0\n",
    "for i, c in enumerate(np.unique(newlabels)):\n",
    "    \n",
    "        icluster_silhouette_values = appendedSilhouette[newlabels == c]\n",
    "        icluster_silhouette_values.sort()\n",
    "        \n",
    "        y_upper += len(icluster_silhouette_values)\n",
    "        ax.barh(range(y_lower, y_upper), icluster_silhouette_values, height=1)\n",
    "        ax.text(-0.09, (y_lower + y_upper) / 2, str(i + 1))\n",
    "        y_lower += len(icluster_silhouette_values)\n",
    "\n",
    "#Plotting the Average of ONC Silhouette Scores\n",
    "silavg = np.mean(silh_scores.values)\n",
    "ax.axvline(silavg, linestyle='--', linewidth=3, color='red')\n",
    "ax.set_yticks([])\n",
    "ax.set_xlim([-0.1, 1])\n",
    "ax.set_xlabel('ONC Silhouette Scores')\n",
    "ax.set_ylabel('Cluster Number')\n",
    "ax.set_title('ONC Silhouette Plot', y=1);\n"
   ]
  },
  {
   "cell_type": "markdown",
   "metadata": {},
   "source": [
    "## Conclusion"
   ]
  },
  {
   "cell_type": "markdown",
   "metadata": {},
   "source": [
    "The ONC algorithm has recovered 5 clusters from the shuffled correlation matrix. The result is consistent with the number of intended blocks in the pre-shuffled matrix.\n",
    "\n",
    "The average Silhouette Score is around 0.3. Each cluster except for 4th has at least one silhouette score higher than the average value.\n",
    "\n",
    "One should remember that the ONC algorithm is somewhat random as the KMeans algorithm inside of it can output different clustering for the same inputs. This is the reason the KMeans inside of the ONC algorithm is run multiple times with the same inputs to obtain the best clusterization."
   ]
  }
 ],
 "metadata": {
  "kernelspec": {
   "display_name": "mlfinlab",
   "language": "python",
   "name": "mlfinlab"
  },
  "language_info": {
   "codemirror_mode": {
    "name": "ipython",
    "version": 3
   },
   "file_extension": ".py",
   "mimetype": "text/x-python",
   "name": "python",
   "nbconvert_exporter": "python",
   "pygments_lexer": "ipython3",
   "version": "3.6.10"
  }
 },
 "nbformat": 4,
 "nbformat_minor": 4
}
